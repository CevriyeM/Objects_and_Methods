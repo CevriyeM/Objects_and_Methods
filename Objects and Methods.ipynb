{
 "cells": [
  {
   "cell_type": "code",
   "execution_count": 56,
   "id": "f694d1ef",
   "metadata": {},
   "outputs": [],
   "source": [
    "class Price:\n",
    "    def __init__(self, item_number, price):\n",
    "        self.price = price\n",
    "        self.item_number = item_number\n",
    "        \n",
    "    def get_price(self):\n",
    "        return self.price\n",
    "    "
   ]
  },
  {
   "cell_type": "code",
   "execution_count": 57,
   "id": "dbb9ba1f",
   "metadata": {},
   "outputs": [],
   "source": [
    "price1 = Price(1, 4.99)"
   ]
  },
  {
   "cell_type": "code",
   "execution_count": 58,
   "id": "8f2acfd0",
   "metadata": {},
   "outputs": [
    {
     "data": {
      "text/plain": [
       "4.99"
      ]
     },
     "execution_count": 58,
     "metadata": {},
     "output_type": "execute_result"
    }
   ],
   "source": [
    "price1.get_price()"
   ]
  },
  {
   "cell_type": "code",
   "execution_count": 59,
   "id": "a1981e10",
   "metadata": {},
   "outputs": [],
   "source": [
    "def function__init__(self, item_number, price):\n",
    "    self.price = price\n",
    "    self.item_number = item_number\n",
    "    "
   ]
  },
  {
   "cell_type": "code",
   "execution_count": 70,
   "id": "cd90a78b",
   "metadata": {},
   "outputs": [],
   "source": [
    "def function_get_price(self):\n",
    "    return self.price "
   ]
  },
  {
   "cell_type": "code",
   "execution_count": 71,
   "id": "10f1b280",
   "metadata": {},
   "outputs": [],
   "source": [
    "namespace = {\"__init__\": function__init__, \"get_price\": function_get_price }"
   ]
  },
  {
   "cell_type": "code",
   "execution_count": 72,
   "id": "a99d01dd",
   "metadata": {},
   "outputs": [],
   "source": [
    "Price2 = type('Price2', (), namespace)"
   ]
  },
  {
   "cell_type": "code",
   "execution_count": 73,
   "id": "bd856b53",
   "metadata": {},
   "outputs": [],
   "source": [
    "price2 = Price2(2, 1.99)\n"
   ]
  },
  {
   "cell_type": "code",
   "execution_count": 74,
   "id": "c823c878",
   "metadata": {},
   "outputs": [
    {
     "data": {
      "text/plain": [
       "1.99"
      ]
     },
     "execution_count": 74,
     "metadata": {},
     "output_type": "execute_result"
    }
   ],
   "source": [
    "price2.get_price()"
   ]
  },
  {
   "cell_type": "code",
   "execution_count": 75,
   "id": "be5ddee4",
   "metadata": {},
   "outputs": [
    {
     "data": {
      "text/plain": [
       "True"
      ]
     },
     "execution_count": 75,
     "metadata": {},
     "output_type": "execute_result"
    }
   ],
   "source": [
    "isinstance(price2, Price2)"
   ]
  },
  {
   "cell_type": "code",
   "execution_count": 76,
   "id": "4615a5c6",
   "metadata": {},
   "outputs": [
    {
     "data": {
      "text/plain": [
       "True"
      ]
     },
     "execution_count": 76,
     "metadata": {},
     "output_type": "execute_result"
    }
   ],
   "source": [
    "isinstance(price1, Price)"
   ]
  },
  {
   "cell_type": "code",
   "execution_count": null,
   "id": "c471ebab",
   "metadata": {},
   "outputs": [],
   "source": []
  },
  {
   "cell_type": "code",
   "execution_count": null,
   "id": "0926f9be",
   "metadata": {},
   "outputs": [],
   "source": []
  },
  {
   "cell_type": "code",
   "execution_count": null,
   "id": "a677e8b5",
   "metadata": {},
   "outputs": [],
   "source": []
  }
 ],
 "metadata": {
  "kernelspec": {
   "display_name": "Python 3 (ipykernel)",
   "language": "python",
   "name": "python3"
  },
  "language_info": {
   "codemirror_mode": {
    "name": "ipython",
    "version": 3
   },
   "file_extension": ".py",
   "mimetype": "text/x-python",
   "name": "python",
   "nbconvert_exporter": "python",
   "pygments_lexer": "ipython3",
   "version": "3.9.7"
  }
 },
 "nbformat": 4,
 "nbformat_minor": 5
}
